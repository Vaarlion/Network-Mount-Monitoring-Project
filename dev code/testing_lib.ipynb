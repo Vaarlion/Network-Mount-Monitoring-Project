{
 "cells": [
  {
   "cell_type": "code",
   "execution_count": 3,
   "metadata": {},
   "outputs": [],
   "source": [
    "from sdbus_async import networkmanager\n",
    "from sdbus import sd_bus_open_system\n",
    "import asyncio\n",
    "\n",
    "loop = asyncio.get_event_loop()\n",
    "system_bus = sd_bus_open_system()  # We need system bus\n",
    "\n",
    "nm = networkmanager.NetworkManager(system_bus)"
   ]
  },
  {
   "cell_type": "code",
   "execution_count": 2,
   "metadata": {},
   "outputs": [
    {
     "data": {
      "text/plain": [
       "<Task pending name='Task-5' coro=<test() running at /tmp/ipykernel_51101/3048652262.py:1>>"
      ]
     },
     "execution_count": 2,
     "metadata": {},
     "output_type": "execute_result"
    }
   ],
   "source": [
    "async def test() -> None:\n",
    "    a=[]\n",
    "    a.append(await nm.connectivity_check_uri)\n",
    "    #a.append(await nm.get_state())\n",
    "    a.append(await nm.properties_get_all_dict())\n",
    "\n",
    "    print(a)\n",
    "\n",
    "loop.create_task(test())"
   ]
  }
 ],
 "metadata": {
  "kernelspec": {
   "display_name": ".venv",
   "language": "python",
   "name": "python3"
  },
  "language_info": {
   "codemirror_mode": {
    "name": "ipython",
    "version": 3
   },
   "file_extension": ".py",
   "mimetype": "text/x-python",
   "name": "python",
   "nbconvert_exporter": "python",
   "pygments_lexer": "ipython3",
   "version": "3.12.3"
  }
 },
 "nbformat": 4,
 "nbformat_minor": 2
}
